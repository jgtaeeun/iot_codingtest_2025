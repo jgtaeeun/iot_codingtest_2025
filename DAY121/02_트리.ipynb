{
 "cells": [
  {
   "cell_type": "markdown",
   "metadata": {},
   "source": [
    "### 몸풀기 문제\n",
    "- 트리 순회(전위,중위,후위)"
   ]
  },
  {
   "cell_type": "code",
   "execution_count": 2,
   "metadata": {},
   "outputs": [],
   "source": [
    "# root, left, right 순으로 순회\n",
    "def preorder(nodes, index):\n",
    "    # index가 노드 리스트의 길이보다 작으면\n",
    "    if index < len(nodes):\n",
    "        ret = str(nodes[index]) + ' '\n",
    "        ret += preorder(nodes, index * 2 + 1) # 배열이어서 index * 2 + 1 이 트리노드 왼쪽\n",
    "        ret += preorder(nodes, index * 2 + 2) # 배열이어서 index * 2 + 1 이 트리노드 오른쪽\n",
    "        return ret\n",
    "    else:\n",
    "        return ''\n",
    "\n",
    "# left, root, right 순으로 순회\n",
    "def inorder(nodes, idx):\n",
    "    if idx < len(nodes):\n",
    "        ret = inorder(nodes, idx * 2 + 1)\n",
    "        ret += str(nodes[idx]) + ' '\n",
    "        ret += inorder(nodes, idx * 2 + 2)\n",
    "        return ret\n",
    "    else:\n",
    "        return ''\n",
    "\n",
    "# left, right, root 순으로 순회    \n",
    "def postorder(nodes, idx):\n",
    "    if idx < len(nodes):\n",
    "        ret = postorder(nodes, idx * 2 + 1)\n",
    "        ret += postorder(nodes, idx * 2 + 2)\n",
    "        ret += str(nodes[idx]) + ' '\n",
    "        return ret\n",
    "    else:\n",
    "        return ''\n",
    "\n",
    "def solution(nodes):\n",
    "    return [\n",
    "        preorder(nodes, 0)[:-1], # [:-1] 마지막 공백 제거\n",
    "        inorder(nodes, 0)[:-1], \n",
    "        postorder(nodes, 0)[:-1], \n",
    "    ]"
   ]
  },
  {
   "cell_type": "code",
   "execution_count": 3,
   "metadata": {},
   "outputs": [
    {
     "data": {
      "text/plain": [
       "['1 2 4 5 3 6 7', '4 2 5 1 6 3 7', '4 5 2 6 7 3 1']"
      ]
     },
     "execution_count": 3,
     "metadata": {},
     "output_type": "execute_result"
    }
   ],
   "source": [
    "solution([1,2,3,4,5,6,7])"
   ]
  },
  {
   "cell_type": "markdown",
   "metadata": {},
   "source": [
    "#### 예상 대진표\n"
   ]
  },
  {
   "cell_type": "markdown",
   "metadata": {},
   "source": [
    "첫 번째 라운드에서 4번 참가자는 3번 참가자와 붙게 되고, 7번 참가자는 8번 참가자와 붙게 됩니다. <br>\n",
    "항상 이긴다고 가정했으므로 4번 참가자는 다음 라운드에서 2번이 되고, 7번 참가자는 4번이 됩니다. <br>\n",
    " 두 번째 라운드에서 2번은 1번과 붙게 되고, 4번은 3번과 붙게 됩니다. 항상 이긴다고 가정했으므로 2번은 다음 라운드에서 1번이 되고, 4번은 2번이 됩니다.  <br>\n",
    " 세 번째 라운드에서 1번과 2번으로 두 참가자가 붙게 되므로 3을 return 하면 됩니다."
   ]
  },
  {
   "cell_type": "code",
   "execution_count": 5,
   "metadata": {},
   "outputs": [],
   "source": [
    "\n",
    "def solution(n, a, b):\n",
    "    answer = 0\n",
    "\n",
    "    while a != b:\n",
    "        a = (a + 1) // 2\n",
    "        b = (b + 1) // 2\n",
    "        answer += 1   # 한번 경기를 진행했음\n",
    "\n",
    "    return answer"
   ]
  },
  {
   "cell_type": "code",
   "execution_count": 6,
   "metadata": {},
   "outputs": [
    {
     "data": {
      "text/plain": [
       "3"
      ]
     },
     "execution_count": 6,
     "metadata": {},
     "output_type": "execute_result"
    }
   ],
   "source": [
    "solution(8, 4, 7)"
   ]
  },
  {
   "cell_type": "markdown",
   "metadata": {},
   "source": [
    "#### 다단계 칫솔 판매"
   ]
  },
  {
   "cell_type": "markdown",
   "metadata": {},
   "source": [
    "- <img src='../다단계칫솔판매트리 문제.png' width =500>"
   ]
  },
  {
   "cell_type": "code",
   "execution_count": 20,
   "metadata": {},
   "outputs": [],
   "source": [
    "# 구현\n",
    "def solution(enroll, referral, seller, amount):\n",
    "    answer = []\n",
    "    # parent 딕셔너리 생성, enroll을 key, referral을 value\n",
    "    parent = dict(zip(enroll, referral))\n",
    "    print(parent)\n",
    "\n",
    "    # total 딕셔너리 생성\n",
    "    total = {name: 0 for name in enroll}\n",
    "    print(total)\n",
    "\n",
    "    # seller와 amount로 이익 분배처리\n",
    "    for i in range(len(seller)):\n",
    "        # seller가 판매한 총금액 계산\n",
    "        money = amount[i] * 100\n",
    "        curr_name = seller[i]\n",
    "        # print(money, curr_name)\n",
    "\n",
    "        #!! 판매자부터 상위노드(추천자)로 이동하면서 이익 분배\n",
    "        while money > 0 and curr_name != '-':\n",
    "            # 현재 판매자가 받을 금액(10% 제외한 금액) \n",
    "            total[curr_name] += money - money // 10\n",
    "            curr_name = parent[curr_name]\n",
    "            # 현재 판매자 기준, 분배금 계산위해\n",
    "            money //= 10\n",
    "\n",
    "    answer = [total[name] for name in enroll] # 전체 조직에서 판매금액을 리스트화\n",
    "    return answer\n",
    "\n"
   ]
  },
  {
   "cell_type": "code",
   "execution_count": 21,
   "metadata": {},
   "outputs": [
    {
     "name": "stdout",
     "output_type": "stream",
     "text": [
      "{'john': '-', 'mary': '-', 'edward': 'mary', 'sam': 'edward', 'emily': 'mary', 'jaimie': 'mary', 'tod': 'jaimie', 'young': 'edward'}\n",
      "{'john': 0, 'mary': 0, 'edward': 0, 'sam': 0, 'emily': 0, 'jaimie': 0, 'tod': 0, 'young': 0}\n"
     ]
    },
    {
     "data": {
      "text/plain": [
       "[360, 958, 108, 0, 450, 18, 180, 1080]"
      ]
     },
     "execution_count": 21,
     "metadata": {},
     "output_type": "execute_result"
    }
   ],
   "source": [
    "enroll= [\"john\", \"mary\", \"edward\", \"sam\", \"emily\", \"jaimie\", \"tod\", \"young\"]\n",
    "referral=[\"-\", \"-\", \"mary\", \"edward\", \"mary\", \"mary\", \"jaimie\", \"edward\"]\n",
    "seller = [\"young\", \"john\", \"tod\", \"emily\", \"mary\"]\n",
    "amount = [12, 4, 2, 5, 10]\n",
    "\n",
    "\n",
    "solution(enroll, referral, seller, amount)"
   ]
  }
 ],
 "metadata": {
  "kernelspec": {
   "display_name": "3.11.9",
   "language": "python",
   "name": "python3"
  },
  "language_info": {
   "codemirror_mode": {
    "name": "ipython",
    "version": 3
   },
   "file_extension": ".py",
   "mimetype": "text/x-python",
   "name": "python",
   "nbconvert_exporter": "python",
   "pygments_lexer": "ipython3",
   "version": "3.11.9"
  }
 },
 "nbformat": 4,
 "nbformat_minor": 2
}
