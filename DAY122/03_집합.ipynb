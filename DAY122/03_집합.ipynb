{
 "cells": [
  {
   "cell_type": "markdown",
   "metadata": {},
   "source": [
    "## 집합\n",
    "#### 간단한 유니온-파인드 알고리즘 구하기"
   ]
  },
  {
   "cell_type": "code",
   "execution_count": 3,
   "metadata": {},
   "outputs": [],
   "source": [
    "# 대표원소 찾기\n",
    "def find(x, parents):\n",
    "    if parents[x] != x :\n",
    "        parents[x] = find(parents[x], parents)\n",
    "    return parents[x]\n",
    "\n",
    "\n",
    "# 합치기\n",
    "def union(x, y, parents, rank_data):\n",
    "    root1 = find(x, parents)\n",
    "    root2 = find(y, parents)\n",
    "\n",
    "    #랭크 알고리즘\n",
    "    if root1 != root2 :\n",
    "        if rank_data[root1] <rank_data[root2] :\n",
    "            parents[root1] = root2\n",
    "        elif rank_data[root1] > rank_data[root2]:\n",
    "            parents[root2] = root1\n",
    "        else :\n",
    "            parents[root2] = root1 \n",
    "            rank_data[root1]+=1    #랭크가 같으면 아무 쪽이나 붙이고 랭크 1 증가\n",
    "\n",
    "def solution(k, operations):\n",
    "    # 각 부모노드 값을 자기 인덱스로 설정\n",
    "    parents = list(range(k))\n",
    "    answer =[]\n",
    "    #rank_data 생성, 초기화\n",
    "    rank_data = [0] * k\n",
    "\n",
    "    for op in operations:\n",
    "        if op[0] == 'u' :\n",
    "            print('union연산')\n",
    "            x = int(op[1])\n",
    "            y = int(op[2])\n",
    "            union(x, y, parents , rank_data )\n",
    "        elif op[0] == 'f':\n",
    "            print('find연산')\n",
    "            x = int(op[1])\n",
    "            y = int(op[2])\n",
    "            answer.append(find(x,parents) == find(y, parents))\n",
    "    return answer"
   ]
  },
  {
   "cell_type": "code",
   "execution_count": 4,
   "metadata": {},
   "outputs": [
    {
     "name": "stdout",
     "output_type": "stream",
     "text": [
      "union연산\n",
      "union연산\n",
      "find연산\n",
      "find연산\n"
     ]
    },
    {
     "data": {
      "text/plain": [
       "[True, False]"
      ]
     },
     "execution_count": 4,
     "metadata": {},
     "output_type": "execute_result"
    }
   ],
   "source": [
    "solution(5, [['u', 0, 1], ['u', 3, 4], ['f', 0, 1], ['f', 1, 3]])"
   ]
  }
 ],
 "metadata": {
  "kernelspec": {
   "display_name": "3.11.9",
   "language": "python",
   "name": "python3"
  },
  "language_info": {
   "codemirror_mode": {
    "name": "ipython",
    "version": 3
   },
   "file_extension": ".py",
   "mimetype": "text/x-python",
   "name": "python",
   "nbconvert_exporter": "python",
   "pygments_lexer": "ipython3",
   "version": "3.11.9"
  }
 },
 "nbformat": 4,
 "nbformat_minor": 2
}
