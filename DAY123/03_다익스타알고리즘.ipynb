{
 "cells": [
  {
   "cell_type": "markdown",
   "metadata": {},
   "source": [
    "### 다익스트라 알고리즘"
   ]
  },
  {
   "cell_type": "code",
   "execution_count": 12,
   "metadata": {},
   "outputs": [],
   "source": [
    "import heapq\n",
    "from collections import defaultdict\n",
    "\n",
    "INF = 99999999999999  # 엄청 큰 수로 무한대 표시\n",
    "\n",
    "def solution(start, num_nodes, edges):\n",
    "    # 1. 딕셔너리 graph는 키는 노드, 값은 (연결된 노드의 값, 간선 가중치) 형태의 튜플을 가지는 리스트\n",
    "    graph = defaultdict(list)\n",
    "    for from_node, to_node , weight in edges:\n",
    "        graph[from_node].append((to_node, weight))\n",
    "\n",
    "    print(graph)\n",
    "\n",
    "    # 2. 최소 비용 및 직전 노드 기록을 위한 초기화\n",
    "    distances = [INF] * num_nodes\n",
    "    visited = [False] *num_nodes\n",
    "    distances[start] = 0\n",
    "\n",
    "    #3. 우선순위 큐\n",
    "    queue = [(start, 0)]   #  시작노드, 가중치\n",
    "\n",
    "    while queue:\n",
    "        curr_node,_= heapq.heappop(queue)\n",
    "        #이미 방문한 노드라면 패스\n",
    "        if visited[curr_node] :\n",
    "            continue\n",
    "\n",
    "        #현재 노드를 방문 처리\n",
    "        visited[curr_node] = True\n",
    "\n",
    "        #인접 노드에 대한 거리 업데이트\n",
    "        for neighbor, weight in graph[curr_node]:\n",
    "            new_distance = distances[curr_node] + weight\n",
    "            if new_distance < distances[neighbor]:\n",
    "                distances[neighbor] = new_distance\n",
    "                heapq.heappush(queue, (neighbor, new_distance))\n",
    "\n",
    "    return  distances \n"
   ]
  },
  {
   "cell_type": "markdown",
   "metadata": {},
   "source": [
    "- <img src='../다익스트라알고리즘 문제.png' width=300>"
   ]
  },
  {
   "cell_type": "code",
   "execution_count": 13,
   "metadata": {},
   "outputs": [
    {
     "name": "stdout",
     "output_type": "stream",
     "text": [
      "defaultdict(<class 'list'>, {0: [(1, 9), (2, 3)], 1: [(0, 5)], 2: [(1, 1)]})\n"
     ]
    },
    {
     "data": {
      "text/plain": [
       "[0, 4, 3]"
      ]
     },
     "execution_count": 13,
     "metadata": {},
     "output_type": "execute_result"
    }
   ],
   "source": [
    "solution(0, 3, [[0,1,9], [0,2,3], [1,0,5],[2,1,1]])"
   ]
  },
  {
   "cell_type": "markdown",
   "metadata": {},
   "source": [
    "- <img src='../다익스트라 문제2.png' width=300>"
   ]
  },
  {
   "cell_type": "code",
   "execution_count": 15,
   "metadata": {},
   "outputs": [
    {
     "name": "stdout",
     "output_type": "stream",
     "text": [
      "defaultdict(<class 'list'>, {0: [(1, 1)], 1: [(2, 5)], 2: [(3, 1)]})\n"
     ]
    },
    {
     "data": {
      "text/plain": [
       "[0, 1, 6, 7]"
      ]
     },
     "execution_count": 15,
     "metadata": {},
     "output_type": "execute_result"
    }
   ],
   "source": [
    "solution(0, 4, [[0,1,1], [1,2,5], [2,3,1]])"
   ]
  }
 ],
 "metadata": {
  "kernelspec": {
   "display_name": "3.11.9",
   "language": "python",
   "name": "python3"
  },
  "language_info": {
   "codemirror_mode": {
    "name": "ipython",
    "version": 3
   },
   "file_extension": ".py",
   "mimetype": "text/x-python",
   "name": "python",
   "nbconvert_exporter": "python",
   "pygments_lexer": "ipython3",
   "version": "3.11.9"
  }
 },
 "nbformat": 4,
 "nbformat_minor": 2
}
