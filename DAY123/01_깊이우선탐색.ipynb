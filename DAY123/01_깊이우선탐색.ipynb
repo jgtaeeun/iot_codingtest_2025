{
 "cells": [
  {
   "cell_type": "markdown",
   "metadata": {},
   "source": [
    "## 그래프\n",
    "#### 깊이우선탐색\n",
    "- <img src='../그래프탐색.png' width =500>"
   ]
  },
  {
   "cell_type": "code",
   "execution_count": 2,
   "metadata": {},
   "outputs": [],
   "source": [
    "#재귀호출 구현\n",
    "#딕셔너리로 인접리스트 생성\n",
    "\n",
    "# 1. 그래프를 인접 리스트로 표현\n",
    "graph = {\n",
    "    1:[4,5],\n",
    "    2: [3],\n",
    "    3:[],\n",
    "    4:[2,3],\n",
    "    5:[4,1]\n",
    "}\n",
    "\n",
    "# 2. 방문 여부 표시하는 배열\n",
    "# 배열은 인덱스 0부터 시작해서 길이보다 +1을 한 듯 하다.\n",
    "visited = [False] * (len(graph) +1)\n",
    "\n",
    "def dfs(current_node):\n",
    "    visited[current_node] = True\n",
    "    print(f\"방문노드 :{current_node} \")\n",
    "    # 3. 현재노드와 인접한 노드 순회\n",
    "    for adj_node in graph[current_node]:\n",
    "        if not visited[adj_node]:\n",
    "            dfs(adj_node)\n",
    "\n"
   ]
  },
  {
   "cell_type": "code",
   "execution_count": 3,
   "metadata": {},
   "outputs": [
    {
     "name": "stdout",
     "output_type": "stream",
     "text": [
      "방문노드 :1 \n",
      "방문노드 :4 \n",
      "방문노드 :2 \n",
      "방문노드 :3 \n",
      "방문노드 :5 \n"
     ]
    }
   ],
   "source": [
    "dfs(1)"
   ]
  }
 ],
 "metadata": {
  "kernelspec": {
   "display_name": "3.11.9",
   "language": "python",
   "name": "python3"
  },
  "language_info": {
   "codemirror_mode": {
    "name": "ipython",
    "version": 3
   },
   "file_extension": ".py",
   "mimetype": "text/x-python",
   "name": "python",
   "nbconvert_exporter": "python",
   "pygments_lexer": "ipython3",
   "version": "3.11.9"
  }
 },
 "nbformat": 4,
 "nbformat_minor": 2
}
