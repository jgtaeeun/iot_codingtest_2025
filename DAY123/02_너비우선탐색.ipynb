{
 "cells": [
  {
   "cell_type": "markdown",
   "metadata": {},
   "source": [
    "## 그래프\n",
    "#### 너비 우선 탐색\n"
   ]
  },
  {
   "cell_type": "code",
   "execution_count": 2,
   "metadata": {},
   "outputs": [],
   "source": [
    "from collections import deque\n"
   ]
  },
  {
   "cell_type": "code",
   "execution_count": 5,
   "metadata": {},
   "outputs": [],
   "source": [
    "# 큐로 구현\n",
    "# 1. 그래프를 인접 리스트로 표현\n",
    "graph = {\n",
    "    1:[4,5],\n",
    "    2: [3],\n",
    "    3:[],\n",
    "    4:[2,3],\n",
    "    5:[4,1]\n",
    "}\n",
    "\n",
    "\n",
    "def bfs(start_node):\n",
    "   \n",
    "    # 2. 방문 여부 표시하는 배열\n",
    "    # 배열은 인덱스 0부터 시작해서 길이보다 +1을 한 듯 하다.\n",
    "    visited = [False] * (len(graph) +1)\n",
    "\n",
    "\n",
    "    # 3. 시작 노드 방문 처리\n",
    "    queue = deque([start_node])\n",
    "    visited[start_node] = True\n",
    "\n",
    "    while queue:\n",
    "        node = queue.popleft()\n",
    "        print(f\"큐에서 팝한 데이터:{node}\")\n",
    "        for adj_node in graph[node]:\n",
    "            if not visited[adj_node] :\n",
    "                queue.append(adj_node)\n",
    "                visited[adj_node]= True\n"
   ]
  },
  {
   "cell_type": "code",
   "execution_count": 6,
   "metadata": {},
   "outputs": [
    {
     "name": "stdout",
     "output_type": "stream",
     "text": [
      "큐에서 팝한 데이터:1\n",
      "큐에서 팝한 데이터:4\n",
      "큐에서 팝한 데이터:5\n",
      "큐에서 팝한 데이터:2\n",
      "큐에서 팝한 데이터:3\n"
     ]
    }
   ],
   "source": [
    "bfs(1)"
   ]
  }
 ],
 "metadata": {
  "kernelspec": {
   "display_name": "3.11.9",
   "language": "python",
   "name": "python3"
  },
  "language_info": {
   "codemirror_mode": {
    "name": "ipython",
    "version": 3
   },
   "file_extension": ".py",
   "mimetype": "text/x-python",
   "name": "python",
   "nbconvert_exporter": "python",
   "pygments_lexer": "ipython3",
   "version": "3.11.9"
  }
 },
 "nbformat": 4,
 "nbformat_minor": 2
}
