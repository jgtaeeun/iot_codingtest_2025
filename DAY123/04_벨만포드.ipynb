{
 "cells": [
  {
   "cell_type": "markdown",
   "metadata": {},
   "source": [
    "### 벨만-포드 알고리즘\n"
   ]
  },
  {
   "cell_type": "markdown",
   "metadata": {},
   "source": [
    "- <img src='../벨만포드알고리즘.png' width=500>"
   ]
  },
  {
   "cell_type": "code",
   "execution_count": 6,
   "metadata": {},
   "outputs": [],
   "source": [
    "import heapq\n",
    "from collections import defaultdict\n",
    "\n",
    "INF = 9999999999  # 엄청 큰 수로 무한대 표시\n",
    "\n",
    "def solution(num_nodes, edges,start):\n",
    "    #간선정보를 활용해서 인접리스트 생성\n",
    "    graph = [[] for _ in range(num_nodes)]\n",
    "    for edge in edges:\n",
    "        from_vtx, to_vtx, weight = edge\n",
    "        graph[from_vtx].append((to_vtx, weight))\n",
    "    print(graph)\n",
    "\n",
    "    distances = [INF] * num_nodes\n",
    "    distances[start]=0\n",
    "\n",
    "    #정점개수 -1만큼 최소 비용 갱신\n",
    "    for _ in range(num_nodes-1):\n",
    "        for u in range(num_nodes):\n",
    "            for v, weight in graph[u]:\n",
    "                if distances[u] + weight < distances[v] :\n",
    "                    distances[v] = distances[u]+weight\n",
    "\n",
    "    print(distances)  \n",
    "\n",
    "    #음의 순환이 있는지 확인\n",
    "    for u in range(num_nodes):\n",
    "        for v, weight in graph[u]:\n",
    "            if distances[u] + weight < distances[v] :\n",
    "                return [-1]\n",
    "\n",
    "    return distances"
   ]
  },
  {
   "cell_type": "code",
   "execution_count": 7,
   "metadata": {},
   "outputs": [
    {
     "name": "stdout",
     "output_type": "stream",
     "text": [
      "[[(1, 4), (2, 3), (4, -6)], [(3, 5)], [(1, 2)], [(0, 7), (2, 4)], [(2, 2)]]\n",
      "[0, -2, -4, 3, -6]\n"
     ]
    },
    {
     "data": {
      "text/plain": [
       "[0, -2, -4, 3, -6]"
      ]
     },
     "execution_count": 7,
     "metadata": {},
     "output_type": "execute_result"
    }
   ],
   "source": [
    "# [0, -2, -4, 3, -6]\n",
    "solution(5, [[0,1,4],[0,2,3],[0,4,-6],[1,3,5],[2,1,2],[3,0,7],[3,2,4],[4,2,2]], 0)"
   ]
  },
  {
   "cell_type": "code",
   "execution_count": 8,
   "metadata": {},
   "outputs": [
    {
     "name": "stdout",
     "output_type": "stream",
     "text": [
      "[[(1, 5), (2, -1)], [(2, 2)], [(3, -2)], [(0, 2), (1, 6)]]\n",
      "[-3, 1, -3, -5]\n"
     ]
    },
    {
     "data": {
      "text/plain": [
       "[-1]"
      ]
     },
     "execution_count": 8,
     "metadata": {},
     "output_type": "execute_result"
    }
   ],
   "source": [
    "# -1\n",
    "solution(4, [[0,1,5],[0,2,-1],[1,2,2],[2,3,-2],[3,0,2],[3,1,6]], 0)"
   ]
  }
 ],
 "metadata": {
  "kernelspec": {
   "display_name": "3.11.9",
   "language": "python",
   "name": "python3"
  },
  "language_info": {
   "codemirror_mode": {
    "name": "ipython",
    "version": 3
   },
   "file_extension": ".py",
   "mimetype": "text/x-python",
   "name": "python",
   "nbconvert_exporter": "python",
   "pygments_lexer": "ipython3",
   "version": "3.11.9"
  }
 },
 "nbformat": 4,
 "nbformat_minor": 2
}
