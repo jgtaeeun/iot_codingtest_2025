{
 "cells": [
  {
   "cell_type": "markdown",
   "metadata": {},
   "source": [
    "### 큐\n",
    "#### 외부라이브러리\n",
    "- Queue는 외부라이브러리가 아주 많음\n",
    "- collections.deque, multiprocessing.Queue, asyncio.Queue, janus, redis-py, kombu, rq ..."
   ]
  },
  {
   "cell_type": "markdown",
   "metadata": {},
   "source": [
    "#### 성능테스트"
   ]
  },
  {
   "cell_type": "code",
   "execution_count": 2,
   "metadata": {},
   "outputs": [],
   "source": [
    "from collections import deque\n",
    "import time\n",
    "\n",
    "lst = list(range(100000))\n",
    "dq = deque(range(100000))"
   ]
  },
  {
   "cell_type": "code",
   "execution_count": 3,
   "metadata": {},
   "outputs": [
    {
     "name": "stdout",
     "output_type": "stream",
     "text": [
      "pop(0) 소요시간 : 8.551526069641113\n"
     ]
    }
   ],
   "source": [
    "start_time = time.time()\n",
    "for i in range(100000):\n",
    "    lst.pop(0)\n",
    "end_time = time.time()\n",
    "print(f'pop(0) 소요시간 : {end_time - start_time}')"
   ]
  },
  {
   "cell_type": "code",
   "execution_count": 4,
   "metadata": {},
   "outputs": [
    {
     "name": "stdout",
     "output_type": "stream",
     "text": [
      "popleft() 소요시간 : 0.002000570297241211\n"
     ]
    }
   ],
   "source": [
    "# popleft()\n",
    "start_time = time.time()\n",
    "for i in range(100000):\n",
    "    dq.popleft()\n",
    "end_time = time.time()\n",
    "print(f'popleft() 소요시간 : {end_time - start_time}')"
   ]
  },
  {
   "cell_type": "markdown",
   "metadata": {},
   "source": [
    "- queue를 구현할때는 deque를 import해서 구현할 것\n",
    "- 속도차이로 일반리스트로 구현하면 코딩테스트시 불리할 수 있음"
   ]
  },
  {
   "cell_type": "markdown",
   "metadata": {},
   "source": [
    "#### 몸풀기 문제\n",
    "- 요세푸스 문제 - 유대인 역사가 플라비우스 요세푸스가 만든 문제"
   ]
  },
  {
   "cell_type": "markdown",
   "metadata": {},
   "source": [
    "- N명의 사람이 1번부터 N번까지 번호를 가지고 원형으로 앉아 있어요.\n",
    "- 양의 정수 K가 주어지면, K번째 사람을 제거하고,\n",
    "- 그 다음 사람부터 다시 K번째 사람을 제거하고... 이 과정을 모두 제거될 때까지 반복해요.\n",
    "- 이때 제거되는 순서가 바로 요세푸스 순열이에요."
   ]
  },
  {
   "cell_type": "code",
   "execution_count": 5,
   "metadata": {},
   "outputs": [],
   "source": [
    "def solution(N, K):\n",
    "    stack = []   #제거되는 순서를 담을 스택\n",
    "    q = deque(range(1, N + 1))  # 1부터 N 까지를 deque에 저장\n",
    "\n",
    "    while q:\n",
    "        q.rotate(- (K - 1))  # k-1 만큼 왼쪽으로 회전 (즉, k번째가 맨 앞으로 오게)\n",
    "        stack.append(q.popleft())  # 맨 앞에 있는 사람 제거\n",
    "\n",
    "    \n",
    "    return stack"
   ]
  },
  {
   "cell_type": "code",
   "execution_count": 6,
   "metadata": {},
   "outputs": [
    {
     "data": {
      "text/plain": [
       "[2, 4, 1, 5, 3]"
      ]
     },
     "execution_count": 6,
     "metadata": {},
     "output_type": "execute_result"
    }
   ],
   "source": [
    "solution(5, 2)"
   ]
  },
  {
   "cell_type": "markdown",
   "metadata": {},
   "source": [
    "- 1 2 3 4 5\n",
    "- 1 3 4 5\n",
    "- 1 3 5\n",
    "- 3 5\n",
    "- 3\n"
   ]
  },
  {
   "cell_type": "markdown",
   "metadata": {},
   "source": [
    "### 카드뭉치\n",
    "- https://school.programmers.co.kr/learn/courses/30/lessons/159994"
   ]
  },
  {
   "cell_type": "code",
   "execution_count": 16,
   "metadata": {},
   "outputs": [],
   "source": [
    "from collections import deque\n",
    "import random\n"
   ]
  },
  {
   "cell_type": "code",
   "execution_count": 23,
   "metadata": {},
   "outputs": [],
   "source": [
    "def solution(card1, card2, goal):\n",
    "    card1, card2, goal = deque(card1), deque(card2), deque(goal)\n",
    "\n",
    "    # goal의 문자열을 하나씩 꺼내서 반복\n",
    "    while goal:\n",
    "        # cards1 맨 첫 요소와 goal의 첫 요소가 일치하면\n",
    "        if card1 and card1[0] == goal[0]:\n",
    "            card1.popleft()\n",
    "            goal.popleft()\n",
    "        # cards2 맨 첫 요소와 goal의 첫 요소가 일치하면\n",
    "        elif card2 and card2[0] == goal[0]:\n",
    "            card2.popleft()\n",
    "            goal.popleft()\n",
    "        else: # 일치하는 요소가 없으면 종료\n",
    "            break\n",
    "\n",
    "    return 'Yes' if not goal else 'No'  # goal 비었으면 Yes 아니면, No"
   ]
  },
  {
   "cell_type": "code",
   "execution_count": 24,
   "metadata": {},
   "outputs": [
    {
     "data": {
      "text/plain": [
       "'Yes'"
      ]
     },
     "execution_count": 24,
     "metadata": {},
     "output_type": "execute_result"
    }
   ],
   "source": [
    "card1 = [\"i\", \"drink\", \"water\"]\n",
    "card2\t=[\"want\", \"to\"]\n",
    "goal =[\"i\", \"want\", \"to\", \"drink\", \"water\"]\n",
    "\n",
    "solution(card1, card2, goal)\n",
    "\n"
   ]
  },
  {
   "cell_type": "code",
   "execution_count": 25,
   "metadata": {},
   "outputs": [
    {
     "data": {
      "text/plain": [
       "'No'"
      ]
     },
     "execution_count": 25,
     "metadata": {},
     "output_type": "execute_result"
    }
   ],
   "source": [
    "card1 =[\"i\", \"water\", \"drink\"]\n",
    "card2\t=[\"want\", \"to\"]\n",
    "goal =[\"i\", \"want\", \"to\", \"drink\", \"water\"]\n",
    "\n",
    "solution(card1, card2, goal)\n"
   ]
  }
 ],
 "metadata": {
  "kernelspec": {
   "display_name": "3.11.9",
   "language": "python",
   "name": "python3"
  },
  "language_info": {
   "codemirror_mode": {
    "name": "ipython",
    "version": 3
   },
   "file_extension": ".py",
   "mimetype": "text/x-python",
   "name": "python",
   "nbconvert_exporter": "python",
   "pygments_lexer": "ipython3",
   "version": "3.11.9"
  }
 },
 "nbformat": 4,
 "nbformat_minor": 2
}
